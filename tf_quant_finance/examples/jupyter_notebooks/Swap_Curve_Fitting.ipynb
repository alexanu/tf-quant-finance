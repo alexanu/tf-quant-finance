{
 "cells": [
  {
   "cell_type": "markdown",
   "metadata": {
    "colab_type": "text",
    "id": "view-in-github"
   },
   "source": [
    "<a href=\"https://colab.research.google.com/github/gavincyi/tf-quant-finance/blob/feature%2Fswap_curve_fitting_example/tf_quant_finance/examples/jupyter_notebooks/Swap_Curve_Fitting.ipynb\" target=\"_parent\"><img src=\"https://colab.research.google.com/assets/colab-badge.svg\" alt=\"Open In Colab\"/></a>"
   ]
  },
  {
   "cell_type": "markdown",
   "metadata": {
    "colab_type": "text",
    "id": "EheA5_j_cEwc"
   },
   "source": [
    "##### Copyright 2020 Google LLC.\n",
    "\n",
    "Licensed under the Apache License, Version 2.0 (the \"License\");"
   ]
  },
  {
   "cell_type": "code",
   "execution_count": null,
   "metadata": {
    "colab": {},
    "colab_type": "code",
    "id": "YCriMWd-pRTP"
   },
   "outputs": [],
   "source": [
    "#@title Licensed under the Apache License, Version 2.0 (the \"License\"); { display-mode: \"form\" }\n",
    "# you may not use this file except in compliance with the License.\n",
    "# You may obtain a copy of the License at\n",
    "#\n",
    "# https://www.apache.org/licenses/LICENSE-2.0\n",
    "#\n",
    "# Unless required by applicable law or agreed to in writing, software\n",
    "# distributed under the License is distributed on an \"AS IS\" BASIS,\n",
    "# WITHOUT WARRANTIES OR CONDITIONS OF ANY KIND, either express or implied.\n",
    "# See the License for the specific language governing permissions and\n",
    "# limitations under the License."
   ]
  },
  {
   "cell_type": "markdown",
   "metadata": {
    "colab_type": "text",
    "id": "OvRwFTkqcp1e"
   },
   "source": [
    "# Swap curve fitting in TensorFlow Quant Finance (TFF)\n",
    "\n",
    "TensorFlow Finance has built-in library for unconstrained numerical optimization. This notebook shows how to use it.\n",
    "\n",
    "<table class=\"tfo-notebook-buttons\" align=\"left\">\n",
    "  <td>\n",
    "    <a target=\"_blank\" href=\"https://colab.research.google.com/github/google/tf-quant-finance/blob/master/tf_quant_finance/examples/jupyter_notebooks/Swap_Curve_Fitting.ipynb\"><img src=\"https://www.tensorflow.org/images/colab_logo_32px.png\" />Run in Google Colab</a>\n",
    "  </td>\n",
    "  <td>\n",
    "    <a target=\"_blank\" href=\"https://github.com/google/tf-quant-finance/blob/master/tf_quant_finance/examples/jupyter_notebooks/Swap_Curve_Fitting.ipynb\"><img src=\"https://www.tensorflow.org/images/GitHub-Mark-32px.png\" />View source on GitHub</a>\n",
    "  </td>\n",
    "</table>"
   ]
  },
  {
   "cell_type": "code",
   "execution_count": null,
   "metadata": {
    "cellView": "both",
    "colab": {
     "base_uri": "https://localhost:8080/",
     "height": 479
    },
    "colab_type": "code",
    "id": "uG8UAZXjeUhf",
    "outputId": "ab5bbaab-b39c-4953-903f-13c636a937a6"
   },
   "outputs": [],
   "source": [
    "#@title Install TF Quant Finance\n",
    "!pip install 'tensorflow>=2.1.0'\n",
    "!pip install tf-quant-finance"
   ]
  },
  {
   "cell_type": "code",
   "execution_count": 2,
   "metadata": {
    "colab": {},
    "colab_type": "code",
    "id": "xmqzltQrwcDt"
   },
   "outputs": [],
   "source": [
    "#@title Imports\n",
    "from datetime import datetime\n",
    "\n",
    "import tensorflow as tf\n",
    "import tensorflow_probability as tfp\n",
    "import functools\n",
    "import matplotlib.colors as colors\n",
    "\n",
    "import tf_quant_finance as tff\n",
    "import tf_quant_finance.experimental.dates as dates\n",
    "\n",
    "from matplotlib import pyplot as plt\n",
    "from IPython.core.pylabtools import figsize\n",
    "\n",
    "# Import seaborn if you want to have fancy visualization\n",
    "# import seaborn as sns\n",
    "# sns.set(style=\"darkgrid\")\n",
    "\n",
    "figsize(12, 8)"
   ]
  },
  {
   "cell_type": "markdown",
   "metadata": {},
   "source": [
    "## Build instrument cashflows"
   ]
  },
  {
   "cell_type": "markdown",
   "metadata": {},
   "source": [
    "The following functions are used to build the cashflows on the fixed and floating legs for curve fitting."
   ]
  },
  {
   "cell_type": "markdown",
   "metadata": {},
   "source": [
    "### 1. Cash instruments\n",
    "\n",
    "Cash instruments generate the cashflow by simple spot rate, i.e.\n",
    "\n",
    "$$[1 + R \\cdot \\tau] \\cdot DF(\\tau) = 1$$\n",
    "\n",
    "where $\\tau$ is the tenor of the instrument, $R$ is the market rate and $DF(\\tau)$ is the discount factor at time $\\tau$."
   ]
  },
  {
   "cell_type": "code",
   "execution_count": 3,
   "metadata": {},
   "outputs": [],
   "source": [
    "#@title 1. Cash instruments\n",
    "def build_spot_cash_instrument(tenor, close, dtype, **kwargs):\n",
    "    \"\"\"Build spot cash instrument.\n",
    "    \n",
    "    Args:\n",
    "      tenor: `dates.PeriodTensor`. Defined the tenor of the floating rate.     \n",
    "      close: `float64`. Defined the close rate of the instrument.\n",
    "        \n",
    "    Returns:\n",
    "      A `dict` containing the inputs for swap_curve_fit, e.g. \n",
    "      `float_leg_start_time`.\n",
    "    \"\"\"\n",
    "    assert tenor.period_type() == dates.PeriodType.MONTH\n",
    "    tenor = tenor.quantity().numpy() / 12.0\n",
    "    return {\n",
    "        'float_leg_start_time': tf.constant([0.0], dtype=dtype),\n",
    "        'float_leg_end_time': tf.constant([tenor], dtype=dtype),\n",
    "        'float_leg_daycount': tf.constant([tenor], dtype=dtype),\n",
    "        'fixed_leg_start_time': tf.constant([0.0], dtype=dtype),\n",
    "        'fixed_leg_end_time': tf.constant([tenor], dtype=dtype),\n",
    "        'fixed_leg_daycount': tf.constant([tenor], dtype=dtype),\n",
    "        'fixed_leg_cashflow': tf.constant([-close], dtype=dtype),\n",
    "        'pv': 0.0,\n",
    "        'initial_curve_rate': 1e-6,\n",
    "    }"
   ]
  },
  {
   "cell_type": "markdown",
   "metadata": {},
   "source": [
    "### 2. Forward and Future instruments\n",
    "\n",
    "Forward instruments, similar to cash instruments, generate the cashflow by simple spot rate on a specified forward date, i.e.\n",
    "\n",
    "$$[1 + R \\cdot \\tau(t_1, t_2)] \\cdot DF(t_2) - DF(t_1) = 0$$\n",
    "\n",
    "where $t_1$ is the forward start time, $t_2$ is the maturity time, $\\tau(t_1, t_2)$ is the tenor of the instrument, and R is the market rate.\n",
    "\n",
    "The difference between the forward and future rates is the convexity adjustment. Since the difference is minimal for instrument less then 2Y maturity, it is assumed to be the same for simplicity here."
   ]
  },
  {
   "cell_type": "code",
   "execution_count": 4,
   "metadata": {},
   "outputs": [],
   "source": [
    "#@title 2. Forward and Future instruments\n",
    "def build_futures_instrument(        \n",
    "        settle_date, maturity_date, close, tenor, dtype, **kwargs):\n",
    "    \"\"\"Build futures instrument.\n",
    "    \n",
    "    Args:\n",
    "      settle_date: `datetime.datetime`. Defines the date when the instrument\n",
    "        is settled.\n",
    "      maturity_date: `datetime.datetime`. Defines the maturity date of the \n",
    "        instrument.\n",
    "      close: `float64`. Defined the close rate of the instrument.\n",
    "      tenor: `dates.PeriodTensor`. Defined the tenor of the floating rate.       \n",
    "        \n",
    "    Returns:\n",
    "      A `dict` containing the inputs for swap_curve_fit, e.g. \n",
    "      `float_leg_start_time`.\n",
    "    \"\"\"\n",
    "    assert tenor.period_type() == dates.PeriodType.MONTH\n",
    "    tenor = tenor.quantity().numpy() / 12.0\n",
    "    \n",
    "    start = daycount(\n",
    "        start_date=dates.from_datetimes([settle_date]),\n",
    "        end_date=dates.from_datetimes([maturity_date]),\n",
    "        dtype=dtype\n",
    "    )\n",
    "    \n",
    "    return {\n",
    "        'float_leg_start_time': start,\n",
    "        'float_leg_end_time': start + tenor,\n",
    "        'float_leg_daycount': tf.constant([tenor], dtype=dtype),\n",
    "        'fixed_leg_start_time': start,\n",
    "        'fixed_leg_end_time': start + tenor,\n",
    "        'fixed_leg_daycount': tf.constant([tenor], dtype=dtype),\n",
    "        'fixed_leg_cashflow': tf.constant([-close], dtype=dtype),\n",
    "        'pv': 0.0,\n",
    "        'initial_curve_rate': 1e-6,\n",
    "    }    "
   ]
  },
  {
   "cell_type": "markdown",
   "metadata": {},
   "source": [
    "### 3. Swap instruments\n",
    "\n",
    "Given a pre-defined notional principal $K$, the present value of the fixed leg can be expressed as\n",
    "\n",
    "$$ PV(fixed) = \\sum_{i=1}^{N_{fixed}} [K \\cdot R \\cdot \\tau(i) \\cdot DF(t_i)] + K \\cdot DF(t_{N_{fixed}}) $$\n",
    "\n",
    "where $R$ is the market rate, $N_{fixed}$ is the total number of fixed leg payments, $\\tau(i)$ is the day count fraction that determines the $i^{th}$ payment amount, $DF(t_1)$ is the discount factor at $i^{th}$ payment time t. \n",
    "\n",
    "Same for the present value of the floating leg\n",
    "\n",
    "$$ PV(floating) = \\sum_{i=1}^{N_{floating}} [K \\cdot R(i) \\cdot \\tau(i) \\cdot DF(t_i)] + K \\cdot DF(t_{N_{floating}}) $$\n",
    "\n",
    "where $R(i)$ is an effective rate to cover $i^{th}$ payment on the floating leg.\n",
    "\n",
    "Under the no-arbitrage rule, the present value of the fixed and floating leg must be equal, i.e.\n",
    "\n",
    "$$ PV(fixed) = PV(floating) $$"
   ]
  },
  {
   "cell_type": "code",
   "execution_count": 5,
   "metadata": {},
   "outputs": [],
   "source": [
    "#@title 3. Swap instruments\n",
    "def build_swap_instrument(\n",
    "        settle_date, maturity_date, close, fixed_tenor, float_tenor, daycount,\n",
    "        roll_convention, dtype, **kwargs):\n",
    "    \"\"\"Build futures instrument.\n",
    "    \n",
    "    Args:\n",
    "      settle_date: `datetime.datetime`. Defines the date when the instrument\n",
    "        is settled.\n",
    "      maturity_date: `datetime.datetime`. Defines the maturity date of the \n",
    "        instrument.\n",
    "      close: `float64`. Defined the close rate of the instrument.\n",
    "      fixed_tenor: `float64`. Defined the tenor of the fixed rate.\n",
    "      float_tenor: `float64`. Defined the tenor of the floating rate.\n",
    "      daycount: `callable`. Defines the daycount convention function imported\n",
    "          from `dates.daycounts`.\n",
    "      roll_convention: `dates.BusinessDayConvention`. Defines the roll\n",
    "          convention.\n",
    "      dtype: `tf.Dtype`. If supplied the dtype for the (elements of)\n",
    "        `float_leg_start_times`, and `fixed_leg_start_times`.\n",
    "        Default value: None which maps to the default dtype inferred by\n",
    "        TensorFlow.   \n",
    "          \n",
    "    Returns:\n",
    "      A `dict` containing the inputs for swap_curve_fit, e.g. \n",
    "      `float_leg_start_time`.\n",
    "    \"\"\"    \n",
    "    settle_date = dates.from_datetimes([settle_date])\n",
    "    maturity_date = dates.from_datetimes([maturity_date])\n",
    "    float_leg_dates = dates.PeriodicSchedule(\n",
    "        start_date=settle_date,\n",
    "        end_date=maturity_date,\n",
    "        tenor=float_tenor,\n",
    "        roll_convention=roll_convention,\n",
    "        backward=False).dates()[0]  \n",
    "    fixed_leg_dates = dates.PeriodicSchedule(\n",
    "        start_date=settle_date,\n",
    "        end_date=maturity_date,\n",
    "        tenor=fixed_tenor,\n",
    "        roll_convention=roll_convention,\n",
    "        backward=False).dates()[0]          \n",
    "        \n",
    "    return {\n",
    "        'float_leg_start_time': daycount(\n",
    "            start_date=settle_date, \n",
    "            end_date=float_leg_dates[:-1],\n",
    "            dtype=dtype),\n",
    "        'float_leg_end_time': daycount(\n",
    "            start_date=settle_date, \n",
    "            end_date=float_leg_dates[1:],\n",
    "            dtype=dtype),\n",
    "        'float_leg_daycount': daycount(\n",
    "            start_date=float_leg_dates[:-1],\n",
    "            end_date=float_leg_dates[1:],\n",
    "            dtype=dtype),\n",
    "        'fixed_leg_start_time': daycount(\n",
    "            start_date=settle_date, \n",
    "            end_date=fixed_leg_dates[:-1],\n",
    "            dtype=dtype),\n",
    "        'fixed_leg_end_time': daycount(\n",
    "            start_date=settle_date, \n",
    "            end_date=fixed_leg_dates[1:],\n",
    "            dtype=dtype),\n",
    "        'fixed_leg_daycount': daycount(\n",
    "            start_date=fixed_leg_dates[:-1],\n",
    "            end_date=fixed_leg_dates[1:],\n",
    "            dtype=dtype),\n",
    "        'fixed_leg_cashflow': tf.repeat(\n",
    "            tf.constant(-close, dtype=dtype), \n",
    "            repeats=fixed_leg_dates.shape[0] - 1, \n",
    "        ),\n",
    "        'pv': 0.0,\n",
    "        'initial_curve_rate': 1e-6,\n",
    "    }"
   ]
  },
  {
   "cell_type": "markdown",
   "metadata": {},
   "source": [
    "## Fit the interest rate curve"
   ]
  },
  {
   "cell_type": "markdown",
   "metadata": {},
   "source": [
    "The data is retrieved from Bloomberg on 2020-02-14 to fit the USD LIBOR 3M curve. \n",
    "\n",
    "The following market instruments are used\n",
    "\n",
    "- LIBOR Fixed 3 Month: Spot LIBOR 3M rate\n",
    "\n",
    "- ED Futures: Eurodollar Futures with expiry up to 2Y\n",
    "\n",
    "- Interest Rate Swap: Liquid interest rate swap instruments with tenors from 2 years to 50 years"
   ]
  },
  {
   "cell_type": "code",
   "execution_count": 6,
   "metadata": {},
   "outputs": [],
   "source": [
    "float_leg_start_times = []\n",
    "float_leg_end_times = []\n",
    "float_leg_daycounts = []\n",
    "fixed_leg_start_times = []\n",
    "fixed_leg_end_times = []\n",
    "fixed_leg_daycounts = []\n",
    "fixed_leg_cashflows = []\n",
    "pvs = []\n",
    "initial_curve_rates = []\n",
    "\n",
    "# Global dtype\n",
    "dtype = tf.float64\n",
    "\n",
    "# Global daycount - Fit on USD curve\n",
    "daycount = tff.experimental.dates.daycounts.actual_360\n",
    "\n",
    "# Global roll convention - Backward\n",
    "roll_convention = dates.BusinessDayConvention.PRECEDING\n",
    "\n",
    "# The fixed leg payment frequency is 6M\n",
    "fixed_tenor = dates.periods.months(6)\n",
    "\n",
    "# The floating rate is always USD LIBOR 3M\n",
    "float_tenor = dates.periods.months(3)\n",
    "\n",
    "instruments = [\n",
    "    {'settle_date': '2020-02-19', 'maturity_date': '2020-05-21', \n",
    "     'close': 0.01696000000, 'name': 'USD3MD'},\n",
    "    {'settle_date': '2020-02-19', 'maturity_date': '2020-06-17', \n",
    "     'close': 0.01669900000, 'name': 'EDH0'},\n",
    "    {'settle_date': '2020-02-19', 'maturity_date': '2020-09-16', \n",
    "     'close': 0.01544400000, 'name': 'EDM0'},\n",
    "    {'settle_date': '2020-02-19', 'maturity_date': '2020-12-16', \n",
    "     'close': 0.01468600000, 'name': 'EDU0'},\n",
    "    {'settle_date': '2020-02-19', 'maturity_date': '2021-03-17', \n",
    "     'close': 0.01427500000, 'name': 'EDZ0'},\n",
    "    {'settle_date': '2020-02-19', 'maturity_date': '2021-06-16', \n",
    "     'close': 0.01326200000, 'name': 'EDH1'},\n",
    "    {'settle_date': '2020-02-19', 'maturity_date': '2021-09-15', \n",
    "     'close': 0.01299700000, 'name': 'EDM1'},\n",
    "    {'settle_date': '2020-02-19', 'maturity_date': '2021-12-15', \n",
    "     'close': 0.01277900000, 'name': 'EDU1'},\n",
    "    {'settle_date': '2020-02-19', 'maturity_date': '2022-03-16', \n",
    "     'close': 0.01295900000, 'name': 'EDZ1'},\n",
    "    {'settle_date': '2020-02-19', 'maturity_date': '2022-06-15', \n",
    "     'close': 0.01288600000, 'name': 'EDH2'},\n",
    "    {'settle_date': '2020-02-19', 'maturity_date': '2022-09-21', \n",
    "     'close': 0.01295900000, 'name': 'EDM2'},\n",
    "    {'settle_date': '2020-02-19', 'maturity_date': '2022-12-21', \n",
    "     'close': 0.01308200000, 'name': 'EDU2'},\n",
    "    {'settle_date': '2020-02-19', 'maturity_date': '2023-03-15', \n",
    "     'close': 0.01335500000, 'name': 'EDZ2'},\n",
    "    {'settle_date': '2020-02-19', 'maturity_date': '2024-02-21', \n",
    "     'close': 0.01378410000, 'name': 'USDAM3L4Y'},\n",
    "    {'settle_date': '2020-02-19', 'maturity_date': '2025-02-21', \n",
    "     'close': 0.01384037500\n",
    "     , 'name': 'USDAM3L6Y'},\n",
    "    {'settle_date': '2020-02-19', 'maturity_date': '2027-02-22', \n",
    "     'close': 0.01419340000, 'name': 'USDAM3L7Y'},\n",
    "    {'settle_date': '2020-02-19', 'maturity_date': '2028-02-22', \n",
    "     'close': 0.01443062500, 'name': 'USDAM3L8Y'},\n",
    "    {'settle_date': '2020-02-19', 'maturity_date': '2029-02-21', \n",
    "     'close': 0.01468025000, 'name': 'USDAM3L9Y'},\n",
    "    {'settle_date': '2020-02-19', 'maturity_date': '2030-02-21', \n",
    "     'close': 0.01494412500, 'name': 'USDAM3L10Y'},\n",
    "    {'settle_date': '2020-02-19', 'maturity_date': '2032-02-23', \n",
    "     'close': 0.01542162500, 'name': 'USDAM3L12Y'},\n",
    "    {'settle_date': '2020-02-19', 'maturity_date': '2035-02-21', \n",
    "     'close': 0.01592825000, 'name': 'USDAM3L15Y'},\n",
    "    {'settle_date': '2020-02-19', 'maturity_date': '2040-02-21', \n",
    "     'close': 0.01644683333, 'name': 'USDAM3L20Y'},\n",
    "    {'settle_date': '2020-02-19', 'maturity_date': '2045-02-21', \n",
    "     'close': 0.01666350000, 'name': 'USDAM3L25Y'},\n",
    "    {'settle_date': '2020-02-19', 'maturity_date': '2050-02-22', \n",
    "     'close': 0.01662650000, 'name': 'USDAM3L30Y'},\n",
    "    {'settle_date': '2020-02-19', 'maturity_date': '2060-02-23', \n",
    "     'close': 0.01613000000, 'name': 'USDAM3L40Y'},\n",
    "    {'settle_date': '2020-02-19', 'maturity_date': '2070-02-21', \n",
    "     'close': 0.01534000000, 'name': 'USDAM3L50Y'},\n",
    "]\n",
    "\n",
    "for instrument in instruments:\n",
    "    instrument['settle_date'] = (\n",
    "        datetime.strptime(instrument['settle_date'], '%Y-%m-%d')\n",
    "    )\n",
    "    instrument['maturity_date'] = (\n",
    "        datetime.strptime(instrument['maturity_date'], '%Y-%m-%d')\n",
    "    )    \n",
    "    if instrument['name'] == 'USD3MD':\n",
    "        # Spot instrument\n",
    "        instrument = build_spot_cash_instrument(\n",
    "            tenor=float_tenor, \n",
    "            dtype=dtype,\n",
    "            **instrument\n",
    "        )\n",
    "    elif instrument['name'][:2] == 'ED':\n",
    "        # Futures instrument\n",
    "        instrument = build_futures_instrument(\n",
    "            dtype=dtype,\n",
    "            tenor=float_tenor, \n",
    "            **instrument\n",
    "        )\n",
    "    elif instrument['name'].startswith('USDAM3L'):\n",
    "        # Swap instrument\n",
    "        instrument = build_swap_instrument(\n",
    "            fixed_tenor=fixed_tenor,\n",
    "            float_tenor=float_tenor,\n",
    "            roll_convention=roll_convention,\n",
    "            daycount=daycount,\n",
    "            dtype=dtype,\n",
    "            **instrument\n",
    "        )\n",
    "    else:\n",
    "        raise NotImplementedError(\n",
    "            'Cannot recognize the type of instrument %s'\n",
    "            % instrument['name']\n",
    "        )\n",
    "    \n",
    "    float_leg_start_times.append(instrument['float_leg_start_time'])\n",
    "    float_leg_end_times.append(instrument['float_leg_end_time'])\n",
    "    float_leg_daycounts.append(instrument['float_leg_daycount'])\n",
    "    fixed_leg_start_times.append(instrument['fixed_leg_start_time'])\n",
    "    fixed_leg_end_times.append(instrument['fixed_leg_end_time'])\n",
    "    fixed_leg_daycounts.append(instrument['fixed_leg_daycount'])\n",
    "    fixed_leg_cashflows.append(instrument['fixed_leg_cashflow'])\n",
    "    pvs.append(instrument['pv'])\n",
    "    initial_curve_rates.append(instrument['initial_curve_rate'])\n",
    "    \n",
    "curve = tff.rates.swap_curve_fit(\n",
    "    float_leg_start_times=float_leg_start_times,\n",
    "    float_leg_end_times=float_leg_end_times,\n",
    "    float_leg_daycount_fractions=float_leg_daycounts,\n",
    "    fixed_leg_start_times=fixed_leg_start_times,\n",
    "    fixed_leg_end_times=fixed_leg_end_times,\n",
    "    fixed_leg_cashflows=fixed_leg_cashflows,\n",
    "    fixed_leg_daycount_fractions=fixed_leg_daycounts,\n",
    "    present_values=tf.constant(pvs, dtype=dtype),\n",
    "    initial_curve_rates=tf.constant(initial_curve_rates, dtype))    "
   ]
  },
  {
   "cell_type": "code",
   "execution_count": 7,
   "metadata": {},
   "outputs": [
    {
     "name": "stderr",
     "output_type": "stream",
     "text": [
      "No handles with labels found to put in legend.\n"
     ]
    },
    {
     "data": {
      "image/png": "[encoded data removed]",
      "text/plain": [
       "<Figure size 864x576 with 1 Axes>"
      ]
     },
     "metadata": {},
     "output_type": "display_data"
    }
   ],
   "source": [
    "plt.plot(curve.times, curve.rates)\n",
    "plt.title('Discount Rate Curve', fontsize=20)\n",
    "plt.xlabel('Time', fontsize=18)\n",
    "plt.ylabel('Discount Rate', fontsize=18)\n",
    "plt.legend()\n",
    "plt.show()"
   ]
  },
  {
   "cell_type": "markdown",
   "metadata": {},
   "source": [
    "## Reference"
   ]
  },
  {
   "cell_type": "markdown",
   "metadata": {},
   "source": [
    "[1] Bloomberg, Building the Bloomberg Interest Rate Curve – Definitions and Methodology, Mar 2016"
   ]
  }
 ],
 "metadata": {
  "colab": {
   "collapsed_sections": [],
   "include_colab_link": true,
   "name": "Swap Curve Fitting.ipynb",
   "provenance": [],
   "toc_visible": true
  },
  "kernelspec": {
   "display_name": "Python 3",
   "language": "python",
   "name": "python3"
  },
  "language_info": {
   "codemirror_mode": {
    "name": "ipython",
    "version": 3
   },
   "file_extension": ".py",
   "mimetype": "text/x-python",
   "name": "python",
   "nbconvert_exporter": "python",
   "pygments_lexer": "ipython3",
   "version": "3.7.5"
  }
 },
 "nbformat": 4,
 "nbformat_minor": 1
}
