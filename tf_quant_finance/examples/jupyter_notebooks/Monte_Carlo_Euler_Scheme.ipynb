{
  "cells": [
    {
      "cell_type": "markdown",
      "metadata": {
        "colab_type": "text",
        "id": "EheA5_j_cEwc"
      },
      "source": [
        "##### Copyright 2019 Google LLC.\n",
        "\n",
        "Licensed under the Apache License, Version 2.0 (the \"License\");"
      ]
    },
    {
      "cell_type": "code",
      "execution_count": 0,
      "metadata": {
        "colab": {},
        "colab_type": "code",
        "id": "YCriMWd-pRTP"
      },
      "outputs": [],
      "source": [
        "#@title Licensed under the Apache License, Version 2.0 (the \"License\"); { display-mode: \"form\" }\n",
        "# you may not use this file except in compliance with the License.\n",
        "# You may obtain a copy of the License at\n",
        "#\n",
        "# https://www.apache.org/licenses/LICENSE-2.0\n",
        "#\n",
        "# Unless required by applicable law or agreed to in writing, software\n",
        "# distributed under the License is distributed on an \"AS IS\" BASIS,\n",
        "# WITHOUT WARRANTIES OR CONDITIONS OF ANY KIND, either express or implied.\n",
        "# See the License for the specific language governing permissions and\n",
        "# limitations under the License."
      ]
    },
    {
      "cell_type": "markdown",
      "metadata": {
        "colab_type": "text",
        "id": "OvRwFTkqcp1e"
      },
      "source": [
        "# Monte Carlo Pricing in Tensorflow Quant Finance (TFF) using Euler Scheme\n",
        "\n",
        "\u003ctable class=\"tfo-notebook-buttons\" align=\"left\"\u003e\n",
        "  \u003ctd\u003e\n",
        "    \u003ca target=\"_blank\" href=\"https://colab.research.google.com/github/google/tf-quant-finance/blob/master/tf_quant_finance/examples/jupyter_notebooks/Monte_Carlo_Euler_Scheme.ipynb\"\u003e\u003cimg src=\"https://www.tensorflow.org/images/colab_logo_32px.png\" /\u003eRun in Google Colab\u003c/a\u003e\n",
        "  \u003c/td\u003e\n",
        "  \u003ctd\u003e\n",
        "    \u003ca target=\"_blank\" href=\"https://github.com/google/tf-quant-finance/blob/master/tf_quant_finance/examples/jupyter_notebooks/Monte_Carlo_Euler_Scheme.ipynb\"\u003e\u003cimg src=\"https://www.tensorflow.org/images/GitHub-Mark-32px.png\" /\u003eView source on GitHub\u003c/a\u003e\n",
        "  \u003c/td\u003e\n",
        "\u003c/table\u003e"
      ]
    },
    {
      "cell_type": "code",
      "metadata": {
        "cellView": "form",
        "colab_type": "code",
        "id": "uG8UAZXjeUhf",
        "colab": {}
      },
      "source": [
        "#@title Upgrade to TensorFlow 2.1+\n",
        "!pip install --upgrade tensorflow"
      ],
      "execution_count": 0,
      "outputs": []
    },
    {
      "cell_type": "code",
      "execution_count": 0,
      "metadata": {
        "cellView": "form",
        "colab": {},
        "colab_type": "code",
        "id": "uG8UAZXjeUhf"
      },
      "outputs": [],
      "source": [
        "#@title Install TF Quant Finance\n",
        "!pip install tf-quant-finance"
      ]
    },
    {
      "cell_type": "code",
      "execution_count": 0,
      "metadata": {
        "cellView": "form",
        "colab": {},
        "colab_type": "code",
        "id": "roUegEh5eh04"
      },
      "outputs": [],
      "source": [
        "#@title Install QuantLib\n",
        "!pip install QuantLib-Python"
      ]
    },
    {
      "cell_type": "markdown",
      "metadata": {
        "colab_type": "text",
        "id": "ku46LPe6Jswv"
      },
      "source": [
        " ### Setup Euler Scheme for Diffusion Sampling\n",
        "   Diffusion process $X(t) = (X_1(t), .. X_n(t))$ is a solution to a [Stochastic Differential Equation](https://en.wikipedia.org/wiki/Stochastic_differential_equation) (SDE)\n",
        "   $$dS_i = a_i(t, S) dt + \\sum_{j=1}^n S_{ij} (t, S) dW_j,\\ i \\in \\{1,.., n\\},$$\n",
        "\n",
        "where $n$ is the dimensionality of the diffusion, $\\{W_j\\}_{j=1}^n$ is $n$-dimensitonal Brownian motion, $a_i(t, S)$ is the instantaneous drift rate and the $S_{ij}(t)$ is the\n",
        "volatility matrix.\n",
        "\n",
        "In this colab we demonstrate how to draw samples from an approximate solution in TFF using the [Euler scheme](https://en.wikipedia.org/wiki/Euler%E2%80%93Maruyama_method).\n"
      ]
    },
    {
      "cell_type": "code",
      "execution_count": 0,
      "metadata": {
        "colab": {},
        "colab_type": "code",
        "id": "2nA2FSdTgcEM"
      },
      "outputs": [],
      "source": [
        "#@title Imports { display-mode: \"form\" }\n",
        "\n",
        "import matplotlib.pyplot as plt\n",
        "import numpy as np\n",
        "import time\n",
        "\n",
        "import tensorflow as tf\n",
        "\n",
        "import QuantLib as ql\n",
        "\n",
        " # tff for Tensorflow Finance\n",
        "import tf_quant_finance as tff\n",
        "ItoProcess = tff.models.ItoProcess\n",
        "\n",
        "from IPython.core.pylabtools import figsize\n",
        "figsize(21, 14) # better graph size for Colab  \n"
      ]
    },
    {
      "cell_type": "code",
      "execution_count": 0,
      "metadata": {
        "cellView": "form",
        "colab": {},
        "colab_type": "code",
        "id": "13_gS0ZIBw2x"
      },
      "outputs": [],
      "source": [
        "#@title Define Euler Scheme for Diffusion sampling\n",
        "\n",
        "# Note that Euler scheme is a built-in sampling algorithm provided both drift\n",
        "# and volatility funcitons are provided\n",
        " \n",
        "class ExampleProcess(ItoProcess):\n",
        "  def __init__(self, dim, drift_fn, vol_fn, dtype=tf.float64):\n",
        "    self._dim = dim\n",
        "    self._drift_fn = drift_fn\n",
        "    self._vol_fn = vol_fn\n",
        "    self._dtype = dtype\n",
        "\n",
        "  def dim(self):\n",
        "    return self._dim\n",
        "\n",
        "  def drift_fn(self):\n",
        "    return self._drift_fn\n",
        "\n",
        "  def volatility_fn(self):\n",
        "    return self._vol_fn\n",
        "\n",
        "  def dtype(self):\n",
        "    return self._dtype\n",
        "\n",
        "  def name(self):\n",
        "    return 'ito_process'\n"
      ]
    },
    {
      "cell_type": "markdown",
      "metadata": {
        "colab_type": "text",
        "id": "DaCP0d8mV_Yp"
      },
      "source": [
        "## European option pricing. Performance comparison with QuantLib\n",
        "\n",
        "TODO(b/140396911): demonstrate batching on strikes using TFF."
      ]
    },
    {
      "cell_type": "code",
      "execution_count": 0,
      "metadata": {
        "cellView": "form",
        "colab": {},
        "colab_type": "code",
        "id": "WRYk-nfL_QQj"
      },
      "outputs": [],
      "source": [
        "#@title Set up parameters\n",
        "tf.compat.v1.reset_default_graph()\n",
        "\n",
        "dtype = np.float64 #@param\n",
        "num_samples = 100000 #@param\n",
        "\n",
        "dim = 1 #@param\n",
        "\n",
        "num_timesteps = 500 #@param\n",
        "\n",
        "times = [1.0] \n",
        "dt = 1. / num_timesteps\n",
        "rate = tf.constant([0.03], dtype=dtype)\n",
        "sigma = tf.constant([0.1], dtype=dtype)\n",
        "spot = tf.constant([700], dtype=dtype)\n",
        "log_spot = tf.math.log(tf.reduce_mean(spot))\n",
        "\n",
        "strike = 550\n",
        "\n",
        "def drift_fn(t, x):\n",
        "  del t, x\n",
        "  return rate - 0.5 * sigma**2\n",
        "\n",
        "def vol_fn(t, x):\n",
        "  del t, x\n",
        "  return sigma * tf.eye(dim, dtype=dtype)\n",
        "\n"
      ]
    },
    {
      "cell_type": "code",
      "execution_count": 0,
      "metadata": {
        "cellView": "form",
        "colab": {},
        "colab_type": "code",
        "id": "LAzzV5Da_QQm",
        "outputId": "ac171478-fb16-4927-add0-762e808232d3"
      },
      "outputs": [
        {
          "name": "stdout",
          "output_type": "stream",
          "text": [
            "('Time (seconds) to price a European Call Option on a CPU: ', 1.5947520732879639)\n"
          ]
        }
      ],
      "source": [
        "#@title Sampling on a CPU. Note TensorFlow does automatic multithreading.\n",
        "with tf.device(\"/cpu:0\"):\n",
        "  process = ExampleProcess(dim=dim, drift_fn=drift_fn, vol_fn=vol_fn, dtype=dtype)\n",
        "  paths = process.sample_paths(times, num_samples=num_samples,\n",
        "                               initial_state=log_spot,\n",
        "                               seed=10, grid_step=dt)\n",
        "  price = tf.exp(-rate * times) * tf.reduce_mean(\n",
        "      tf.nn.relu(tf.exp(paths) - strike), [0, 1]) \n",
        "\n",
        "with tf.Session() as sess:\n",
        "  sess.run(log_spot)  # warm-up the kernel\n",
        "\n",
        "with tf.Session() as sess:\n",
        "  time_start = time.time()\n",
        "  price_cpu = sess.run(price)\n",
        "  time_end = time.time()\n",
        "\n",
        "time_price_cpu = time_end - time_start\n",
        "print(\"Time (seconds) to price a European Call Option on a CPU: \", time_price_cpu)"
      ]
    },
    {
      "cell_type": "code",
      "execution_count": 0,
      "metadata": {
        "cellView": "form",
        "colab": {},
        "colab_type": "code",
        "id": "C1Rjiwe9_QQp",
        "outputId": "57b0c17e-f007-41a5-b531-4fb3be2731f0"
      },
      "outputs": [
        {
          "name": "stdout",
          "output_type": "stream",
          "text": [
            "('Time (seconds) to price a European Call Option using QuantLib: ', 31.67402410507202)\n"
          ]
        }
      ],
      "source": [
        "#@title Monte Carlo sampling in QuantLib\n",
        "\n",
        "num_samples = 100000 #@param\n",
        "\n",
        "num_timesteps = 500 #@param\n",
        "\n",
        "expiry = 1.0\n",
        "\n",
        "calculation_date = ql.Date(1, 1, 2010)\n",
        "maturity_date = ql.Date(1, 1, 2011)\n",
        "day_count = ql.Thirty360()\n",
        "calendar = ql.NullCalendar()\n",
        "\n",
        "ql_strike_price = 550\n",
        "sigma = 0.1\n",
        "ql_volatility = ql.SimpleQuote(sigma)\n",
        "ql_risk_free_rate = 0.03\n",
        "option_type = ql.Option.Call\n",
        "\n",
        "ql.Settings.instance().evaluationDate = calculation_date\n",
        "payoff = ql.PlainVanillaPayoff(option_type, ql_strike_price)\n",
        "\n",
        "eu_exercise = ql.EuropeanExercise(maturity_date)\n",
        "european_option_ql = ql.VanillaOption(payoff, eu_exercise)\n",
        "\n",
        "flat_ts = ql.YieldTermStructureHandle(\n",
        "    ql.FlatForward(calculation_date, ql_risk_free_rate, day_count)\n",
        ")\n",
        "flat_vol_ts = ql.BlackVolTermStructureHandle(\n",
        "    ql.BlackConstantVol(calculation_date, calendar,\n",
        "                        ql.QuoteHandle(ql_volatility), day_count)\n",
        ")\n",
        "\n",
        "spot = 700\n",
        "spot_price = ql.SimpleQuote(spot)\n",
        "spot_handle = ql.QuoteHandle(\n",
        "    spot_price\n",
        ")\n",
        "bsm_process = ql.BlackScholesProcess(spot_handle,\n",
        "                                      flat_ts,\n",
        "                                      flat_vol_ts)\n",
        "\n",
        "# Compute the same price number_of_options times\n",
        "\n",
        "engine = ql.MCEuropeanEngine(bsm_process, \"PseudoRandom\",\n",
        "                             timeSteps=num_timesteps,\n",
        "                             requiredSamples=num_samples,\n",
        "                             seed=42)\n",
        "\n",
        "# Price\n",
        "t = time.time()\n",
        "european_option_ql.setPricingEngine(engine)\n",
        "price_ql = european_option_ql.NPV()\n",
        "time_price_ql = time.time() - t\n",
        "print(\"Time (seconds) to price a European Call Option using QuantLib: \", time_price_ql)\n"
      ]
    },
    {
      "cell_type": "code",
      "execution_count": 0,
      "metadata": {
        "cellView": "form",
        "colab": {},
        "colab_type": "code",
        "id": "V2ms9TA7_QQr",
        "outputId": "41a05263-3e69-417c-9b32-2dcc6ec68e0b"
      },
      "outputs": [
        {
          "data": {
            "image/png": "[encoded data removed]",
            "text/plain": [
              "\u003cFigure size 864x648 with 1 Axes\u003e"
            ]
          },
          "metadata": {
            "needs_background": "light",
            "tags": []
          },
          "output_type": "display_data"
        }
      ],
      "source": [
        "#@title Plot the results\n",
        "\n",
        "ind = np.arange(1)  # the x locations for the groups\n",
        "width = 0.35  # the width of the bars\n",
        "\n",
        "fig, ax = plt.subplots()\n",
        "\n",
        "fig.set_figheight(9)\n",
        "fig.set_figwidth(12)\n",
        "\n",
        "rects1 = ax.bar(ind - width/2, [time_price_cpu], width,\n",
        "                label='TensorFlow (CPU)', color='darkorange')\n",
        "rects2 = ax.bar(ind + width/2, [time_price_ql], width,\n",
        "                label='QuantLib')\n",
        "\n",
        "# Add some text for labels, title and custom x-axis tick labels, etc.\n",
        "ax.set_ylabel('Time (sec) to sample {}'.format(num_samples))\n",
        "ax.set_title('Monte Carlo sampling comparison')\n",
        "ax.set_xticks(ind)\n",
        "ax.legend()\n",
        "\n",
        "\n",
        "plt.show()"
      ]
    },
    {
      "cell_type": "markdown",
      "metadata": {
        "colab_type": "text",
        "id": "rSdbNzN_d3gC"
      },
      "source": [
        "## Sampling from a 100-dimensional process. GPU vs CPU comparison"
      ]
    },
    {
      "cell_type": "code",
      "execution_count": 0,
      "metadata": {
        "cellView": "form",
        "colab": {},
        "colab_type": "code",
        "id": "qMQ_AYna_QQ3"
      },
      "outputs": [],
      "source": [
        "#@title Set up SDE parameters\n",
        "tf.compat.v1.reset_default_graph()\n",
        "\n",
        "dtype = np.float64 #@param\n",
        "num_samples = 100000 #@param\n",
        "\n",
        "dim = 100 #@param\n",
        "\n",
        "num_timesteps = 500 #@param\n",
        "\n",
        "times = [0.1, 0.5, 1.0]  # Return sample paths at 3 different times\n",
        "dt = 1. / num_timesteps\n",
        "\n",
        "# Sampling from dX = 0.1 * dt + cov * dW\n",
        "\n",
        "def drift_fn(t, x):\n",
        "  del t, x\n",
        "  return 0.1 + tf.zeros([dim], dtype=dtype)\n",
        "\n",
        "# Generate random covariance matrix\n",
        "np.random.seed(42)  # set random seed\n",
        "matrix_decomposition = dtype(np.random.uniform(size=[dim, dim]))\n",
        "cov = np.dot(matrix_decomposition, matrix_decomposition.transpose())\n",
        "\n",
        "def vol_fn(t, x):\n",
        "  del t, x\n",
        "  return matrix_decomposition\n"
      ]
    },
    {
      "cell_type": "code",
      "execution_count": 0,
      "metadata": {
        "cellView": "form",
        "colab": {},
        "colab_type": "code",
        "id": "_jcAfIzJ_QQ5",
        "outputId": "eeaa1c75-dc2c-4dd9-a774-99d425af5bae"
      },
      "outputs": [
        {
          "name": "stdout",
          "output_type": "stream",
          "text": [
            "('Time (seconds) to sample 100000 paths on a CPU: ', 89.0434639453888)\n"
          ]
        }
      ],
      "source": [
        "#@title Sampling on a CPU. Note TensorFlow does automatic multithreading.\n",
        "with tf.device(\"/cpu:0\"):\n",
        "  process = ExampleProcess(dim=dim, drift_fn=drift_fn, vol_fn=vol_fn,\n",
        "                           dtype=dtype)\n",
        "  paths = process.sample_paths(times, num_samples=num_samples,\n",
        "                               initial_state=np.zeros([dim]),\n",
        "                               seed=10, grid_step=dt) \n",
        "\n",
        "with tf.Session() as sess:\n",
        "  sess.run(tf.constant(0))  # warm-up the kernell\n",
        "\n",
        "with tf.Session() as sess:\n",
        "  time_start = time.time()\n",
        "  paths_cpu = sess.run(paths)\n",
        "  time_end = time.time()\n",
        "\n",
        "time_price_cpu = time_end - time_start\n",
        "print(\"Time (seconds) to sample {} paths on a CPU: \".format(num_samples), time_price_cpu)"
      ]
    },
    {
      "cell_type": "code",
      "execution_count": 0,
      "metadata": {
        "cellView": "form",
        "colab": {},
        "colab_type": "code",
        "id": "4cUbE9-d_QQ8",
        "outputId": "c7b6206c-956d-4e99-f452-000959411362"
      },
      "outputs": [
        {
          "name": "stdout",
          "output_type": "stream",
          "text": [
            "('Time (seconds) to sample 100000 paths on a GPU: ', 13.390123128890991)\n"
          ]
        }
      ],
      "source": [
        "#@title Sampling on a GPU.\n",
        "with tf.device(\"/gpu:0\"):\n",
        "  process = ExampleProcess(dim=dim, drift_fn=drift_fn, vol_fn=vol_fn,\n",
        "                           dtype=dtype)\n",
        "  paths = process.sample_paths(times, num_samples=num_samples,\n",
        "                               initial_state=np.zeros([dim]),\n",
        "                               seed=10, grid_step=dt) \n",
        "\n",
        "with tf.Session() as sess:\n",
        "  sess.run(tf.constant(0))  # warm-up the kernel\n",
        "\n",
        "with tf.Session() as sess:\n",
        "  time_start = time.time()\n",
        "  paths_gpu = sess.run(paths)\n",
        "  time_end = time.time()\n",
        "\n",
        "time_price_gpu = time_end - time_start\n",
        "print(\"Time (seconds) to sample {} paths on a GPU: \".format(num_samples), time_price_gpu)"
      ]
    },
    {
      "cell_type": "code",
      "execution_count": 0,
      "metadata": {
        "cellView": "form",
        "colab": {},
        "colab_type": "code",
        "id": "XJrgXurM_QRA",
        "outputId": "7af0c29b-0fb5-41bd-be3c-820b3b8dfae0"
      },
      "outputs": [
        {
          "data": {
            "image/png": "[encoded data removed]",
            "text/plain": [
              "\u003cFigure size 864x648 with 1 Axes\u003e"
            ]
          },
          "metadata": {
            "needs_background": "light",
            "tags": []
          },
          "output_type": "display_data"
        }
      ],
      "source": [
        "#@title Plot the results\n",
        "\n",
        "ind = np.arange(1)  # the x locations for the groups\n",
        "width = 0.35  # the width of the bars\n",
        "\n",
        "fig, ax = plt.subplots()\n",
        "\n",
        "fig.set_figheight(9)\n",
        "fig.set_figwidth(12)\n",
        "\n",
        "rects1 = ax.bar(ind - width/2, [time_price_cpu], width,\n",
        "                label='TensorFlow (CPU)', color='green')\n",
        "rects2 = ax.bar(ind + width/2, [time_price_gpu], width,\n",
        "                label='TensorFlow (GPU)', color='darkorange')\n",
        "\n",
        "# Add some text for labels, title and custom x-axis tick labels, etc.\n",
        "ax.set_ylabel('Time (sec) to sample {}'.format(num_samples))\n",
        "ax.set_title('Monte Carlo sampling speed comparison (100 dimensional SDE)')\n",
        "ax.set_xticks(ind)\n",
        "ax.legend()\n",
        "\n",
        "plt.show()"
      ]
    },
    {
      "cell_type": "markdown",
      "metadata": {
        "colab_type": "text",
        "id": "CxLFy9DJBUvd"
      },
      "source": [
        "# Work in progress: demonstrate automatic differentiation capabilities of TFF"
      ]
    }
  ],
  "metadata": {
    "colab": {
      "collapsed_sections": [],
      "last_runtime": {
        "build_target": "",
        "kind": "local"
      },
      "name": "Monte_Carlo_Euler_Scheme.ipynb",
      "provenance": [
        {
          "file_id": "1rT50234_4wb5VFNWyheBfyVlV-iuRA0t",
          "timestamp": 1553699488325
        },
        {
          "file_id": "1G2Wm6NzpdH3gPFsFTaLslgonTTkI0U0h",
          "timestamp": 1552493606270
        }
      ],
      "toc_visible": true
    },
    "kernelspec": {
      "display_name": "Python 3",
      "name": "python3"
    }
  },
  "nbformat": 4,
  "nbformat_minor": 0
}
